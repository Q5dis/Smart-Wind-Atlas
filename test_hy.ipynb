{
 "cells": [
  {
   "cell_type": "markdown",
   "id": "8ef6405a",
   "metadata": {},
   "source": [
    "최하연의 브랜치"
   ]
  }
 ],
 "metadata": {
  "kernelspec": {
   "display_name": "data_analysis",
   "language": "python",
   "name": "python3"
  },
  "language_info": {
   "name": "python",
   "version": "3.13.5"
  }
 },
 "nbformat": 4,
 "nbformat_minor": 5
}
