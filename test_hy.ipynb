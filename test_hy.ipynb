{
 "cells": [
  {
   "cell_type": "markdown",
   "id": "8ef6405a",
   "metadata": {},
   "source": [
    "최하연 test"
   ]
  }
 ],
 "metadata": {
  "kernelspec": {
   "display_name": "data_analysis",
   "language": "python",
   "name": "python3"
  },
  "language_info": {
   "name": "python",
   "version": "3.13.5"
  }
 },
 "nbformat": 4,
 "nbformat_minor": 5
}
