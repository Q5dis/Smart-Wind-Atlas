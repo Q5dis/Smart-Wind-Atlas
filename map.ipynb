{
 "cells": [
  {
   "cell_type": "markdown",
   "id": "046112d1",
   "metadata": {},
   "source": [
    "### 실제로 띄울 맵 코드를 구현하는 공간"
   ]
  },
  {
   "cell_type": "markdown",
   "id": "1d034379",
   "metadata": {},
   "source": []
  }
 ],
 "metadata": {
  "kernelspec": {
   "display_name": "data_analysis",
   "language": "python",
   "name": "python3"
  },
  "language_info": {
   "name": "python",
   "version": "3.13.5"
  }
 },
 "nbformat": 4,
 "nbformat_minor": 5
}
