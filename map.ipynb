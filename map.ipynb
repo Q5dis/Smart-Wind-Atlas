{
 "cells": [
  {
   "cell_type": "markdown",
   "id": "046112d1",
   "metadata": {},
   "source": [
    "### 실제로 띄울 맵 코드를 구현하는 공간"
   ]
  },
  {
   "cell_type": "code",
   "execution_count": 2,
   "id": "8cd422ed",
   "metadata": {},
   "outputs": [],
   "source": [
    "import pandas as pd\n",
    "import folium\n",
    "\n",
    "# 데이터 읽기\n",
    "all_farms = pd.read_excel(\"datas/Windfarm_Data.xlsx\")\n",
    "\n",
    "# 좌표 처리\n",
    "if \"좌표\" in all_farms.columns:\n",
    "    all_farms[[\"위도_tmp\", \"경도_tmp\"]] = all_farms[\"좌표\"].astype(str).str.split(\"\\t\", expand=True)\n",
    "    all_farms[\"위도\"] = all_farms[\"위도\"].combine_first(all_farms[\"위도_tmp\"]).astype(float)\n",
    "    all_farms[\"경도\"] = all_farms[\"경도\"].combine_first(all_farms[\"경도_tmp\"]).astype(float)\n",
    "\n",
    "# NaN 제거\n",
    "all_farms = all_farms.dropna(subset=[\"위도\", \"경도\"])\n",
    "\n",
    "# 지도 생성\n",
    "m = folium.Map(location=[36, 127], tiles=\"Cartodb Positron\", zoom_start=7)\n",
    "\n",
    "# 커스텀 아이콘 크기 (픽셀)\n",
    "icon_size = (10, 10)\n",
    "\n",
    "# 지도에 커스텀 아이콘과 팝업 추가\n",
    "for _, farm in all_farms.iterrows():\n",
    "    # 팝업 HTML\n",
    "    popup_html = f\"\"\"\n",
    "    <strong>{farm.get('name', '이름 없음')}</strong><br>\n",
    "    유형: {farm.get('type', '정보 없음')}<br>\n",
    "    지역: {farm.get('region', '정보 없음')}<br>\n",
    "    담당처: {farm.get('operator', '정보 없음')}<br>\n",
    "    발전량: {farm.get('capacity', '정보 없음')} MW\n",
    "    \"\"\"\n",
    "    \n",
    "    icon = folium.CustomIcon(\n",
    "        icon_image=\"datas/dot.png\",\n",
    "        icon_size=icon_size\n",
    "    )\n",
    "    \n",
    "    folium.Marker(\n",
    "        location=[farm[\"위도\"], farm[\"경도\"]],\n",
    "        popup=folium.Popup(popup_html, max_width=250),\n",
    "        icon=icon\n",
    "    ).add_to(m)\n",
    "\n",
    "m\n",
    "\n",
    "m.save(\"test_map2.html\")"
   ]
  },
  {
   "cell_type": "code",
   "execution_count": null,
   "id": "47bad870",
   "metadata": {},
   "outputs": [],
   "source": []
  }
 ],
 "metadata": {
  "kernelspec": {
   "display_name": "data_analysis",
   "language": "python",
   "name": "python3"
  },
  "language_info": {
   "codemirror_mode": {
    "name": "ipython",
    "version": 3
   },
   "file_extension": ".py",
   "mimetype": "text/x-python",
   "name": "python",
   "nbconvert_exporter": "python",
   "pygments_lexer": "ipython3",
   "version": "3.13.5"
  }
 },
 "nbformat": 4,
 "nbformat_minor": 5
}
